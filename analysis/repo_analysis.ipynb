{
 "cells": [
  {
   "cell_type": "code",
   "execution_count": 9,
   "id": "b9b0f619",
   "metadata": {},
   "outputs": [],
   "source": [
    "import matplotlib.pyplot as plt\n",
    "import pandas as pd"
   ]
  },
  {
   "cell_type": "code",
   "execution_count": 10,
   "id": "1901613a",
   "metadata": {},
   "outputs": [],
   "source": [
    "from pathlib import Path\n",
    "import seaborn as sbn\n",
    "sbn.set()\n",
    "sbn.set_palette('bright')\n",
    "base_path = Path(\".\").absolute().parent\n",
    "repos_df = pd.read_csv(base_path/\"repositories_flakiness_big.csv\")\n",
    "\n",
    "save: bool = True"
   ]
  },
  {
   "cell_type": "code",
   "execution_count": 11,
   "id": "2b7952ca",
   "metadata": {},
   "outputs": [
    {
     "name": "stdout",
     "output_type": "stream",
     "text": [
      "Number of projects: 796\n"
     ]
    }
   ],
   "source": [
    "modules = repos_df['MODULES']\n",
    "modules_list = modules.tolist()\n",
    "print(\"Number of projects: \" + str(len(modules_list)))"
   ]
  },
  {
   "cell_type": "code",
   "execution_count": 12,
   "id": "eacf81a8",
   "metadata": {},
   "outputs": [
    {
     "data": {
      "text/plain": "                                 PATH                                URL  \\\ncount                             796                                796   \nunique                            796                                796   \ntop     ./src/projects/apache-airflow  https://github.com/apache/airflow   \nfreq                                1                                  1   \n\n          HASH                                            MODULES  \\\ncount      796                                                796   \nunique     610                                                796   \ntop     v0.9.0  {'airflow.contrib.operators.bigquery_check_ope...   \nfreq         9                                                  1   \n\n                  NAME PYPI_VERSION TAG_STATUS  \ncount              796          796        796  \nunique             796          332          2  \ntop     apache-airflow        0.1.0      MATCH  \nfreq                 1           23        474  ",
      "text/html": "<div>\n<style scoped>\n    .dataframe tbody tr th:only-of-type {\n        vertical-align: middle;\n    }\n\n    .dataframe tbody tr th {\n        vertical-align: top;\n    }\n\n    .dataframe thead th {\n        text-align: right;\n    }\n</style>\n<table border=\"1\" class=\"dataframe\">\n  <thead>\n    <tr style=\"text-align: right;\">\n      <th></th>\n      <th>PATH</th>\n      <th>URL</th>\n      <th>HASH</th>\n      <th>MODULES</th>\n      <th>NAME</th>\n      <th>PYPI_VERSION</th>\n      <th>TAG_STATUS</th>\n    </tr>\n  </thead>\n  <tbody>\n    <tr>\n      <th>count</th>\n      <td>796</td>\n      <td>796</td>\n      <td>796</td>\n      <td>796</td>\n      <td>796</td>\n      <td>796</td>\n      <td>796</td>\n    </tr>\n    <tr>\n      <th>unique</th>\n      <td>796</td>\n      <td>796</td>\n      <td>610</td>\n      <td>796</td>\n      <td>796</td>\n      <td>332</td>\n      <td>2</td>\n    </tr>\n    <tr>\n      <th>top</th>\n      <td>./src/projects/apache-airflow</td>\n      <td>https://github.com/apache/airflow</td>\n      <td>v0.9.0</td>\n      <td>{'airflow.contrib.operators.bigquery_check_ope...</td>\n      <td>apache-airflow</td>\n      <td>0.1.0</td>\n      <td>MATCH</td>\n    </tr>\n    <tr>\n      <th>freq</th>\n      <td>1</td>\n      <td>1</td>\n      <td>9</td>\n      <td>1</td>\n      <td>1</td>\n      <td>23</td>\n      <td>474</td>\n    </tr>\n  </tbody>\n</table>\n</div>"
     },
     "execution_count": 12,
     "metadata": {},
     "output_type": "execute_result"
    }
   ],
   "source": [
    "repos_df.describe()"
   ]
  },
  {
   "cell_type": "code",
   "execution_count": 13,
   "id": "517b9a70",
   "metadata": {},
   "outputs": [
    {
     "name": "stdout",
     "output_type": "stream",
     "text": [
      "0      {'airflow.contrib.operators.bigquery_check_ope...\n",
      "1      {'t.unit.backends.test_cosmosdbsql', 't.unit.w...\n",
      "2      {'conans.client.cmd.user', 'conans.client.gene...\n",
      "3      {'rest_framework.metadata', 'rest_framework.vi...\n",
      "4      {'lib.bmp', 'lib.gui', 'lib.wallet', 'lib.gui_...\n",
      "                             ...                        \n",
      "791    {'yasa.features', 'yasa.others', 'yasa.io', 'y...\n",
      "792    {'yeahyeah.cli', 'yeahyeah_plugins.clockify_pl...\n",
      "793           {'zengin_code.bank', 'zengin_code.branch'}\n",
      "794                                  {'randomizer.main'}\n",
      "795       {'randomizer.partial', 'randomizer.randomize'}\n",
      "Name: MODULES, Length: 796, dtype: object\n"
     ]
    }
   ],
   "source": [
    "modules_df = repos_df['MODULES']\n",
    "print(modules_df)"
   ]
  },
  {
   "cell_type": "code",
   "execution_count": 14,
   "id": "03d97557",
   "metadata": {
    "pycharm": {
     "name": "#%%\n"
    }
   },
   "outputs": [
    {
     "name": "stdout",
     "output_type": "stream",
     "text": [
      "Number of modules: 15836\n"
     ]
    }
   ],
   "source": [
    "number_of_modules_list = []\n",
    "number_of_modules: int = 0\n",
    "for index, row in modules_df.iteritems():\n",
    "    row_list = row.split(\",\")\n",
    "    number_of_modules_list.append(len(row_list))\n",
    "    number_of_modules += len(row_list)\n",
    "print(\"Number of modules: \" + str(number_of_modules))"
   ]
  },
  {
   "cell_type": "code",
   "execution_count": 15,
   "outputs": [
    {
     "data": {
      "text/plain": "<Figure size 432x288 with 1 Axes>",
      "image/png": "[encoded data removed]"
     },
     "metadata": {},
     "output_type": "display_data"
    }
   ],
   "source": [
    "number_of_modules_df = pd.DataFrame(number_of_modules_list, columns=[\"SIZE\"])\n",
    "number_of_modules_df.describe()\n",
    "#number_of_modules_df.boxplot(vert=False, figsize=(25,3))\n",
    "#plt.figure(figsize=(15, 7))\n",
    "#ax = sbn.boxplot(x=number_of_modules_df['SIZE'])\n",
    "#ax.set(xlabel='Number of modules', xlim=(-10,450))\n",
    "\n",
    "#ax = sbn.stripplot(y=number_of_modules_df['SIZE'])\n",
    "#ax.set(ylabel='number of modules')\n",
    "sbn.histplot(data=number_of_modules_df, x=\"SIZE\", binwidth=25)\n",
    "plt.xlabel(\"number of modules\")\n",
    "plt.ylabel(\"count\")\n",
    "plt.xlim((0, 450))\n",
    "\n",
    "if save:\n",
    "    plt.savefig(\"./figures/number_of_modules.png\", dpi=1200)"
   ],
   "metadata": {
    "collapsed": false,
    "pycharm": {
     "name": "#%%\n"
    }
   }
  },
  {
   "cell_type": "code",
   "execution_count": 16,
   "outputs": [
    {
     "data": {
      "text/plain": "             SIZE\ncount  796.000000\nmean    19.894472\nstd     46.834717\nmin      1.000000\n25%      3.000000\n50%      8.000000\n75%     17.000000\nmax    806.000000",
      "text/html": "<div>\n<style scoped>\n    .dataframe tbody tr th:only-of-type {\n        vertical-align: middle;\n    }\n\n    .dataframe tbody tr th {\n        vertical-align: top;\n    }\n\n    .dataframe thead th {\n        text-align: right;\n    }\n</style>\n<table border=\"1\" class=\"dataframe\">\n  <thead>\n    <tr style=\"text-align: right;\">\n      <th></th>\n      <th>SIZE</th>\n    </tr>\n  </thead>\n  <tbody>\n    <tr>\n      <th>count</th>\n      <td>796.000000</td>\n    </tr>\n    <tr>\n      <th>mean</th>\n      <td>19.894472</td>\n    </tr>\n    <tr>\n      <th>std</th>\n      <td>46.834717</td>\n    </tr>\n    <tr>\n      <th>min</th>\n      <td>1.000000</td>\n    </tr>\n    <tr>\n      <th>25%</th>\n      <td>3.000000</td>\n    </tr>\n    <tr>\n      <th>50%</th>\n      <td>8.000000</td>\n    </tr>\n    <tr>\n      <th>75%</th>\n      <td>17.000000</td>\n    </tr>\n    <tr>\n      <th>max</th>\n      <td>806.000000</td>\n    </tr>\n  </tbody>\n</table>\n</div>"
     },
     "execution_count": 16,
     "metadata": {},
     "output_type": "execute_result"
    }
   ],
   "source": [
    "number_of_modules_df.describe()"
   ],
   "metadata": {
    "collapsed": false,
    "pycharm": {
     "name": "#%%\n"
    }
   }
  },
  {
   "cell_type": "code",
   "execution_count": 16,
   "outputs": [],
   "source": [],
   "metadata": {
    "collapsed": false,
    "pycharm": {
     "name": "#%%\n"
    }
   }
  }
 ],
 "metadata": {
  "kernelspec": {
   "display_name": "Python 3 (ipykernel)",
   "language": "python",
   "name": "python3"
  },
  "language_info": {
   "codemirror_mode": {
    "name": "ipython",
    "version": 3
   },
   "file_extension": ".py",
   "mimetype": "text/x-python",
   "name": "python",
   "nbconvert_exporter": "python",
   "pygments_lexer": "ipython3",
   "version": "3.9.12"
  }
 },
 "nbformat": 4,
 "nbformat_minor": 5
}