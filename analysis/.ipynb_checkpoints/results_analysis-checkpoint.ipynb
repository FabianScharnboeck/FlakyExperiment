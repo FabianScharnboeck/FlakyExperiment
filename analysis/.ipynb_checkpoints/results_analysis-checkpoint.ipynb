{
 "cells": [
  {
   "cell_type": "markdown",
   "metadata": {
    "pycharm": {
     "name": "#%% md\n"
    }
   },
   "source": [
    "# Flakiness of automatically generated Python tests: An empirical analysis"
   ]
  },
  {
   "cell_type": "code",
   "execution_count": 1,
   "metadata": {
    "pycharm": {
     "name": "#%%\n"
    }
   },
   "outputs": [
    {
     "data": {
      "text/plain": [
       "count      16354\n",
       "unique       422\n",
       "top       PyKMIP\n",
       "freq        1090\n",
       "Name: Project_Name, dtype: object"
      ]
     },
     "execution_count": 1,
     "metadata": {},
     "output_type": "execute_result"
    }
   ],
   "source": [
    "from pathlib import Path\n",
    "import pandas as pd\n",
    "from matplotlib import pyplot as plt\n",
    "\n",
    "base_path = Path(\".\").absolute().parent\n",
    "df = pd.read_csv(base_path/\"src/results/flapy-results_20220522_200203/!results_csvs/passed_failed_results.csv\")\n",
    "df_repos = pd.read_csv(base_path/\"repositories_flakiness_big.csv\")\n",
    "df['Project_Name'].describe()"
   ]
  },
  {
   "cell_type": "code",
   "execution_count": 2,
   "metadata": {
    "pycharm": {
     "name": "#%%\n"
    }
   },
   "outputs": [
    {
     "data": {
      "text/plain": [
       "count                796\n",
       "unique               796\n",
       "top       apache-airflow\n",
       "freq                   1\n",
       "Name: NAME, dtype: object"
      ]
     },
     "execution_count": 2,
     "metadata": {},
     "output_type": "execute_result"
    }
   ],
   "source": [
    "df_repos['NAME'].describe()"
   ]
  },
  {
   "cell_type": "markdown",
   "metadata": {
    "pycharm": {
     "name": "#%% md\n"
    }
   },
   "source": [
    "## Information about the repositories and about the pynguin sucess rate"
   ]
  },
  {
   "cell_type": "code",
   "execution_count": 3,
   "metadata": {
    "pycharm": {
     "name": "#%%\n"
    }
   },
   "outputs": [
    {
     "name": "stdout",
     "output_type": "stream",
     "text": [
      "Number of repos with generated tests: \n",
      "422\n",
      "Number of repos: \n",
      "796\n",
      "Number of projects pynguin has generated tests for: \n",
      "53.015%\n"
     ]
    }
   ],
   "source": [
    "num_repos = len(df_repos)\n",
    "num_repos_succeed = len(df['Project_Name'].unique())\n",
    "print(\"Number of repos with generated tests: \" + \"\\n\" + str(num_repos_succeed))\n",
    "print(\"Number of repos: \" + \"\\n\" + str(num_repos))\n",
    "print(\"Number of projects pynguin has generated tests for: \" + \"\\n\" + str(format((num_repos_succeed / num_repos) * 100, \".3f\")) + \"%\")"
   ]
  },
  {
   "cell_type": "code",
   "execution_count": 4,
   "metadata": {
    "pycharm": {
     "name": "#%%\n"
    }
   },
   "outputs": [
    {
     "data": {
      "image/png": "[encoded data removed]",
      "text/plain": [
       "<Figure size 720x504 with 1 Axes>"
      ]
     },
     "metadata": {
      "needs_background": "light"
     },
     "output_type": "display_data"
    }
   ],
   "source": [
    "df_repos_succeed = df_repos[df_repos['NAME'].isin(df['Project_Name'])]\n",
    "modules_df = df_repos_succeed['MODULES']\n",
    "number_of_modules_list_succeeded_repos = []\n",
    "number_of_modules_succeeded_repos: int = 0\n",
    "for index, row in modules_df.iteritems():\n",
    "    row_list = row.split(\",\")\n",
    "    number_of_modules_list_succeeded_repos.append(len(row_list))\n",
    "    number_of_modules_succeeded_repos += len(row_list)\n",
    "number_of_succeeded_repos: int = len(df_repos_succeed['NAME'].unique())\n",
    "\n",
    "number_of_modules_list_repos = []\n",
    "number_of_modules_repos: int = 0\n",
    "modules_df = df_repos['MODULES']\n",
    "for index, row in modules_df.iteritems():\n",
    "    row_list = row.split(\",\")\n",
    "    number_of_modules_list_repos.append(len(row_list))\n",
    "    number_of_modules_repos += len(row_list)\n",
    "\n",
    "figure = plt.figure(figsize=(10,7))\n",
    "bar = figure.add_subplot()\n",
    "bar.bar([\"succeeded repos\", \"number succeeded modules\", \"repos\", \"modules\"], [number_of_succeeded_repos, number_of_modules_succeeded_repos, num_repos, number_of_modules_repos])\n",
    "plt.show()"
   ]
  },
  {
   "cell_type": "code",
   "execution_count": 5,
   "metadata": {
    "pycharm": {
     "name": "#%%\n"
    }
   },
   "outputs": [
    {
     "data": {
      "image/png": "[encoded data removed]",
      "text/plain": [
       "<Figure size 432x288 with 1 Axes>"
      ]
     },
     "metadata": {},
     "output_type": "display_data"
    }
   ],
   "source": [
    "y = ['Successful Test Generation on project', 'No test generation on project']\n",
    "x = [number_of_succeeded_repos, num_repos-number_of_succeeded_repos]\n",
    "plt.pie(x, labels=y)\n",
    "plt.show()"
   ]
  },
  {
   "cell_type": "markdown",
   "metadata": {},
   "source": [
    "## First We want to know some basic information about the experiment\n",
    "### Number of Flaky tests, ratio"
   ]
  },
  {
   "cell_type": "code",
   "execution_count": 6,
   "metadata": {
    "pycharm": {
     "name": "#%%\n"
    }
   },
   "outputs": [
    {
     "name": "stdout",
     "output_type": "stream",
     "text": [
      "Flaky tests: 19\n",
      "Num tests: 16354\n",
      "Ratio: 0.116 %\n"
     ]
    }
   ],
   "source": [
    "flaky_tests = df.loc[df[\"flaky?\"] != \"not flaky\"]\n",
    "number_flaky_tests = len(flaky_tests)\n",
    "number_non_flaky_tests = len(df) - number_flaky_tests\n",
    "print(\"Flaky tests: \" + str(len(flaky_tests)))\n",
    "print(\"Num tests: \" + str(len(df)))\n",
    "\n",
    "flaky_to_not_flaky_ratio = len(flaky_tests) / len(df)\n",
    "flaky_to_not_flaky_ratio = format(flaky_to_not_flaky_ratio*100, \".3f\")\n",
    "print(\"Ratio: \" + str(flaky_to_not_flaky_ratio) + \" %\")"
   ]
  },
  {
   "cell_type": "code",
   "execution_count": 7,
   "metadata": {
    "pycharm": {
     "name": "#%%\n"
    }
   },
   "outputs": [
    {
     "name": "stdout",
     "output_type": "stream",
     "text": [
      "Number of modules in Flaky Repos: 264\n",
      "Number of Flaky repos: 15\n",
      "Flaky Repo to repo ratio: 3.55%\n"
     ]
    }
   ],
   "source": [
    "flaky_tests_bool = df['flaky?']!='not flaky'\n",
    "flaky_tests = df[flaky_tests_bool]\n",
    "repos_of_flaky_tests_bool = df_repos['NAME'].isin(flaky_tests['Project_Name'])\n",
    "repos_of_flaky_tests = df_repos[repos_of_flaky_tests_bool]\n",
    "\n",
    "modules_df = repos_of_flaky_tests['MODULES']\n",
    "number_of_modules_list_flaky_repos = []\n",
    "number_of_modules_in_flaky_repos: int = 0\n",
    "for index, row in modules_df.iteritems():\n",
    "    row_list = row.split(\",\")\n",
    "    number_of_modules_list_flaky_repos.append(len(row_list))\n",
    "    number_of_modules_in_flaky_repos += len(row_list)\n",
    "print(\"Number of modules in Flaky Repos: \" + str(number_of_modules_in_flaky_repos))\n",
    "\n",
    "number_of_flaky_repos: int = len(repos_of_flaky_tests)\n",
    "print(\"Number of Flaky repos: \" + str(number_of_flaky_repos))\n",
    "print(\"Flaky Repo to repo ratio: \" + str(format(100*(number_of_flaky_repos / number_of_succeeded_repos), \".2f\")) + \"%\")"
   ]
  },
  {
   "cell_type": "code",
   "execution_count": 8,
   "metadata": {
    "pycharm": {
     "name": "#%%\n"
    }
   },
   "outputs": [
    {
     "data": {
      "image/png": "[encoded data removed]",
      "text/plain": [
       "<Figure size 720x504 with 2 Axes>"
      ]
     },
     "metadata": {
      "needs_background": "light"
     },
     "output_type": "display_data"
    }
   ],
   "source": [
    "figure = plt.figure(1, figsize=(10,7))\n",
    "\n",
    "# Add subplot\n",
    "plt1 = figure.add_subplot(121)\n",
    "plt1.bar(['non-flaky tests', 'flaky tests'], [number_non_flaky_tests, number_flaky_tests])\n",
    "plt.yscale('log')\n",
    "plt.xlabel('Tests')\n",
    "plt.ylabel('Frequency')\n",
    "\n",
    "# Add subplot\n",
    "plt2 = figure.add_subplot(122)\n",
    "plt2.bar([\"flaky repos\", \"non flaky repos\"], [number_of_flaky_repos, number_of_succeeded_repos-number_of_flaky_repos])\n",
    "plt.xlabel('Repos')\n",
    "plt.show()"
   ]
  },
  {
   "cell_type": "code",
   "execution_count": 9,
   "metadata": {
    "pycharm": {
     "name": "#%%\n"
    }
   },
   "outputs": [],
   "source": [
    "flaky_df = df.groupby('flaky?').count()['Project_Name']\n"
   ]
  }
 ],
 "metadata": {
  "kernelspec": {
   "display_name": "Python 3 (ipykernel)",
   "language": "python",
   "name": "python3"
  },
  "language_info": {
   "codemirror_mode": {
    "name": "ipython",
    "version": 3
   },
   "file_extension": ".py",
   "mimetype": "text/x-python",
   "name": "python",
   "nbconvert_exporter": "python",
   "pygments_lexer": "ipython3",
   "version": "3.8.9"
  }
 },
 "nbformat": 4,
 "nbformat_minor": 1
}
